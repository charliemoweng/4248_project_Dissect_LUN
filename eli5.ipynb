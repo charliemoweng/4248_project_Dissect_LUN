{
 "cells": [
  {
   "cell_type": "markdown",
   "metadata": {},
   "source": [
    "# Notebook to train LinearSVC model on data and analyse using ELI5\n",
    "sources: \\\n",
    "https://medium.com/@gaurishah143/xg-boost-for-text-classification-9c8b1f8f24aa \\\n",
    "https://github.com/salonipriyani/eli5-article/blob/main/NLP-eli5.ipynb \\\n",
    "https://eli5.readthedocs.io/en/latest/tutorials/black-box-text-classifiers.html \\\n",
    "\\\n",
    "About LinearSVC:\n",
    "- stands for Linear Support Vector Classification\n",
    "- Both LinearSVC and SVC of sklearn are based on Support Vector Machine (SVM)\n",
    "- sklearn documentation on LinearSVC: https://scikit-learn.org/stable/modules/generated/sklearn.svm.LinearSVC.html\n",
    "- on SVM: https://www.ibm.com/topics/support-vector-machine"
   ]
  },
  {
   "cell_type": "code",
   "execution_count": 16,
   "metadata": {},
   "outputs": [],
   "source": [
    "import eli5\n",
    "import pandas as pd\n",
    "import numpy as np\n",
    "from sklearn.feature_extraction.text import TfidfVectorizer\n",
    "from sklearn.model_selection import train_test_split\n",
    "from sklearn.metrics import accuracy_score, f1_score, classification_report\n",
    "from sklearn.svm import LinearSVC"
   ]
  },
  {
   "cell_type": "code",
   "execution_count": 17,
   "metadata": {},
   "outputs": [],
   "source": [
    "# # Text data and labels from original dataset\n",
    "# data_original = pd.read_csv('dataset/fulltrain.csv')\n",
    "# texts = data_original['Text']\n",
    "# labels = data_original['Label']\n",
    "\n",
    "# Text data and labels from augmented dataset\n",
    "data_original = pd.read_csv('dataset/merged_final_df_with_topics_new.csv')\n",
    "texts = data_original['text']\n",
    "labels = data_original['label']\n",
    "\n",
    "# # Split the data into train and test sets, when running tests on partition of training corpus.\n",
    "# texts_train, texts_test, labels_train, labels_test = train_test_split(texts, labels, test_size=0.2, random_state=42)\n",
    "\n",
    "# when using the entire corpus as training data\n",
    "texts_train = texts\n",
    "labels_train = labels"
   ]
  },
  {
   "cell_type": "code",
   "execution_count": 18,
   "metadata": {},
   "outputs": [
    {
     "name": "stdout",
     "output_type": "stream",
     "text": [
      "Accuracy:  0.7613333333333333\n",
      "f1 score:  0.7560312918613052\n",
      "              precision    recall  f1-score   support\n",
      "\n",
      "           1       0.87      0.78      0.82       750\n",
      "           2       0.79      0.52      0.63       750\n",
      "           3       0.64      0.80      0.71       750\n",
      "           4       0.80      0.94      0.86       750\n",
      "\n",
      "    accuracy                           0.76      3000\n",
      "   macro avg       0.77      0.76      0.76      3000\n",
      "weighted avg       0.77      0.76      0.76      3000\n",
      "\n"
     ]
    }
   ],
   "source": [
    "vec = TfidfVectorizer(stop_words='english', ngram_range=(1, 2))\n",
    "vectorizer_fit = vec.fit(texts_train)\n",
    "texts_train = vectorizer_fit.transform(texts_train)\n",
    "\n",
    "# # use the balancedtest file. comment out if using fulltrain file.\n",
    "# test_data = pd.read_csv('dataset/balancedtest.csv')\n",
    "# texts_test = test_data['Text']\n",
    "# labels_test = test_data['Label']\n",
    "\n",
    "# for augmented dataset\n",
    "test_data = pd.read_csv('dataset/test_final_with_topics_new.csv')\n",
    "texts_test = test_data['text']\n",
    "labels_test = test_data['label']\n",
    "\n",
    "texts_test = vectorizer_fit.transform(texts_test)\n",
    "\n",
    "# Fit the model on the training data\n",
    "clf = LinearSVC()\n",
    "clf.fit(texts_train, labels_train)\n",
    "\n",
    "# Make predictions on the test set\n",
    "predictions = clf.predict(texts_test)\n",
    "\n",
    "# Evaluate the model performance\n",
    "accuracy = accuracy_score(labels_test, predictions)\n",
    "print(\"Accuracy: \", accuracy)\n",
    "f1_score = f1_score(labels_test, predictions, average='macro')\n",
    "print(\"f1 score: \", f1_score)\n",
    "\n",
    "print(classification_report(labels_test, predictions, labels=[1, 2, 3, 4]))\n",
    "\n",
    "# # output prediction results for original dataset in csv for further analysis\n",
    "# results_df = pd.DataFrame({\n",
    "#     'Text': test_data['Text'],\n",
    "#     'Original Label': labels_test,\n",
    "#     'Predicted Label': predictions\n",
    "# })\n",
    "# results_df.to_csv('dataset/linearsvc_model_predictions_original_dataset.csv', index=False)\n",
    "\n",
    "# output prediction results for augmented dataset in csv for further analysis\n",
    "results_df = pd.DataFrame({\n",
    "    'Text': test_data['text'],\n",
    "    'Original Label': labels_test,\n",
    "    'Predicted Label': predictions\n",
    "})\n",
    "results_df.to_csv('dataset/linearsvc_model_predictions_augmented_dataset.csv', index=False)"
   ]
  }
 ],
 "metadata": {
  "kernelspec": {
   "display_name": "4248_project",
   "language": "python",
   "name": "python3"
  },
  "language_info": {
   "codemirror_mode": {
    "name": "ipython",
    "version": 3
   },
   "file_extension": ".py",
   "mimetype": "text/x-python",
   "name": "python",
   "nbconvert_exporter": "python",
   "pygments_lexer": "ipython3",
   "version": "3.10.14"
  }
 },
 "nbformat": 4,
 "nbformat_minor": 2
}
