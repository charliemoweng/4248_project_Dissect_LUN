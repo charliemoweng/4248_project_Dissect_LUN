{
 "cells": [
  {
   "cell_type": "markdown",
   "metadata": {},
   "source": [
    "# Notebook to train LinearSVC model on data and analyse using ELI5\n",
    "sources: \\\n",
    "https://medium.com/@gaurishah143/xg-boost-for-text-classification-9c8b1f8f24aa \\\n",
    "https://github.com/salonipriyani/eli5-article/blob/main/NLP-eli5.ipynb \\\n",
    "https://eli5.readthedocs.io/en/latest/tutorials/black-box-text-classifiers.html"
   ]
  },
  {
   "cell_type": "code",
   "execution_count": 70,
   "metadata": {},
   "outputs": [],
   "source": [
    "import eli5\n",
    "import pandas as pd\n",
    "import numpy as np\n",
    "from sklearn.feature_extraction.text import TfidfVectorizer\n",
    "from sklearn.model_selection import train_test_split\n",
    "from sklearn.metrics import accuracy_score, f1_score, classification_report\n",
    "from sklearn.svm import LinearSVC"
   ]
  },
  {
   "cell_type": "code",
   "execution_count": 71,
   "metadata": {},
   "outputs": [],
   "source": [
    "# Text data and labels\n",
    "data_original = pd.read_csv('dataset/fulltrain.csv')\n",
    "texts = data_original['Text']\n",
    "labels = data_original['Label']\n",
    "\n",
    "# Split the data into train and test sets\n",
    "texts_train, texts_test, labels_train, labels_test = train_test_split(texts, labels, test_size=0.2, random_state=42)"
   ]
  },
  {
   "cell_type": "code",
   "execution_count": 72,
   "metadata": {},
   "outputs": [
    {
     "name": "stdout",
     "output_type": "stream",
     "text": [
      "Accuracy: 75.73%\n",
      "f1 score is:  0.7508898405059017\n",
      "              precision    recall  f1-score   support\n",
      "\n",
      "           1       0.87      0.77      0.81       750\n",
      "           2       0.79      0.50      0.61       750\n",
      "           3       0.63      0.84      0.72       750\n",
      "           4       0.81      0.93      0.86       750\n",
      "\n",
      "    accuracy                           0.76      3000\n",
      "   macro avg       0.77      0.76      0.75      3000\n",
      "weighted avg       0.77      0.76      0.75      3000\n",
      "\n"
     ]
    }
   ],
   "source": [
    "vec = TfidfVectorizer(stop_words='english', ngram_range=(1, 2))\n",
    "vectorizer_fit = vec.fit(texts_train)\n",
    "texts_train = vectorizer_fit.transform(texts_train)\n",
    "\n",
    "# use the balancedtest file. comment out if using fulltrain file.\n",
    "test_data = pd.read_csv('dataset/balancedtest.csv')\n",
    "\n",
    "# check for NaN value\n",
    "# nan_rows = test_data[test_data['Text'].isnull()]\n",
    "# print(nan_rows)\n",
    "\n",
    "texts_test = test_data['Text']\n",
    "labels_test = test_data['Label']\n",
    "\n",
    "texts_test = vectorizer_fit.transform(texts_test)\n",
    "\n",
    "clf = LinearSVC()\n",
    "# Fit the pipeline on the training data\n",
    "clf.fit(texts_train, labels_train)\n",
    "\n",
    "# Make predictions on the test set\n",
    "predictions = clf.predict(texts_test)\n",
    "\n",
    "# Evaluate the model performance\n",
    "accuracy = accuracy_score(labels_test, predictions)\n",
    "print(\"Accuracy: {:.2f}%\".format(accuracy * 100))\n",
    "f1_score = f1_score(labels_test, predictions, average='macro')\n",
    "print(\"f1 score is: \", f1_score)\n",
    "\n",
    "print(classification_report(labels_test, predictions, labels=[1, 2, 3, 4]))"
   ]
  }
 ],
 "metadata": {
  "kernelspec": {
   "display_name": "4248_project",
   "language": "python",
   "name": "python3"
  },
  "language_info": {
   "codemirror_mode": {
    "name": "ipython",
    "version": 3
   },
   "file_extension": ".py",
   "mimetype": "text/x-python",
   "name": "python",
   "nbconvert_exporter": "python",
   "pygments_lexer": "ipython3",
   "version": "3.10.14"
  }
 },
 "nbformat": 4,
 "nbformat_minor": 2
}
