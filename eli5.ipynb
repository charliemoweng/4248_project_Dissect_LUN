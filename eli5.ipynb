{
 "cells": [
  {
   "cell_type": "markdown",
   "metadata": {},
   "source": [
    "# Notebook to train [xxx] model on data and analyse using ELI5\n",
    "following from https://github.com/salonipriyani/eli5-article/blob/main/NLP-eli5.ipynb"
   ]
  },
  {
   "cell_type": "code",
   "execution_count": 31,
   "metadata": {},
   "outputs": [],
   "source": [
    "import eli5\n",
    "import pandas as pd\n",
    "from sklearn.feature_extraction.text import TfidfVectorizer\n",
    "from sklearn.model_selection import train_test_split\n",
    "from sklearn.metrics import accuracy_score, f1_score\n",
    "from sklearn.svm import LinearSVC"
   ]
  },
  {
   "cell_type": "code",
   "execution_count": 32,
   "metadata": {},
   "outputs": [],
   "source": [
    "# Text data and labels\n",
    "data_original = pd.read_csv('dataset/fulltrain.csv')\n",
    "texts = data_original['Text']\n",
    "labels = data_original['Label']\n",
    "\n",
    "# Split the data into train and test sets\n",
    "texts_train, texts_test, labels_train, labels_test = train_test_split(texts, labels, test_size=0.2, random_state=42)"
   ]
  },
  {
   "cell_type": "code",
   "execution_count": 33,
   "metadata": {},
   "outputs": [
    {
     "name": "stdout",
     "output_type": "stream",
     "text": [
      "Accuracy: 97.34%\n",
      "f1 score is:  0.9725751345206182\n"
     ]
    }
   ],
   "source": [
    "vec = TfidfVectorizer()\n",
    "vectorizer_fit = vec.fit(texts_train)\n",
    "texts_train = vectorizer_fit.transform(texts_train)\n",
    "\n",
    "# use the balancedtest file. comment out if using fulltrain file.\n",
    "# test_data = pd.read_csv('dataset/balancedtest.csv')\n",
    "# texts_test = test_data['Text']\n",
    "# labels_test = test_data['Label']\n",
    "\n",
    "texts_test = vectorizer_fit.transform(texts_test)\n",
    "\n",
    "clf = LinearSVC()\n",
    "# Fit the pipeline on the training data\n",
    "clf.fit(texts_train, labels_train)\n",
    "\n",
    "# Make predictions on the test set\n",
    "predictions = clf.predict(texts_test)\n",
    "\n",
    "# Evaluate the model performance\n",
    "accuracy = accuracy_score(labels_test, predictions)\n",
    "print(\"Accuracy: {:.2f}%\".format(accuracy * 100))\n",
    "f1_score = f1_score(labels_test, predictions, average='macro')\n",
    "print(\"f1 score is: \", f1_score)"
   ]
  }
 ],
 "metadata": {
  "kernelspec": {
   "display_name": "4248_project",
   "language": "python",
   "name": "python3"
  },
  "language_info": {
   "codemirror_mode": {
    "name": "ipython",
    "version": 3
   },
   "file_extension": ".py",
   "mimetype": "text/x-python",
   "name": "python",
   "nbconvert_exporter": "python",
   "pygments_lexer": "ipython3",
   "version": "3.10.14"
  }
 },
 "nbformat": 4,
 "nbformat_minor": 2
}
